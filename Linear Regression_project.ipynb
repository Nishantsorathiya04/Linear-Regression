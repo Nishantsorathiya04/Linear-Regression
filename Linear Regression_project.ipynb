{
 "cells": [
  {
   "cell_type": "markdown",
   "metadata": {},
   "source": [
    "## Fish market\n",
    "Database of common fish species for fish market"
   ]
  },
  {
   "cell_type": "markdown",
   "metadata": {},
   "source": [
    "## About this Dataset\n",
    "Content\n",
    "This dataset is a record of 7 common different fish species in fish market sales. With this dataset, a predictive model can be performed using machine friendly data and estimate the weight of fish can be predicted."
   ]
  },
  {
   "cell_type": "code",
   "execution_count": 1,
   "metadata": {},
   "outputs": [],
   "source": [
    "#import libraries\n",
    "import pandas as pd\n",
    "import numpy as np\n",
    "from matplotlib import pyplot as plt\n",
    "import seaborn as sns\n",
    "from sklearn.linear_model import LinearRegression\n",
    "from sklearn.metrics import mean_squared_error, r2_score"
   ]
  },
  {
   "cell_type": "code",
   "execution_count": 2,
   "metadata": {},
   "outputs": [
    {
     "data": {
      "text/html": [
       "<div>\n",
       "<style scoped>\n",
       "    .dataframe tbody tr th:only-of-type {\n",
       "        vertical-align: middle;\n",
       "    }\n",
       "\n",
       "    .dataframe tbody tr th {\n",
       "        vertical-align: top;\n",
       "    }\n",
       "\n",
       "    .dataframe thead th {\n",
       "        text-align: right;\n",
       "    }\n",
       "</style>\n",
       "<table border=\"1\" class=\"dataframe\">\n",
       "  <thead>\n",
       "    <tr style=\"text-align: right;\">\n",
       "      <th></th>\n",
       "      <th>Species</th>\n",
       "      <th>Weight</th>\n",
       "      <th>Length1</th>\n",
       "      <th>Length2</th>\n",
       "      <th>Length3</th>\n",
       "      <th>Height</th>\n",
       "      <th>Width</th>\n",
       "    </tr>\n",
       "  </thead>\n",
       "  <tbody>\n",
       "    <tr>\n",
       "      <th>0</th>\n",
       "      <td>Bream</td>\n",
       "      <td>242.0</td>\n",
       "      <td>23.2</td>\n",
       "      <td>25.4</td>\n",
       "      <td>30.0</td>\n",
       "      <td>11.5200</td>\n",
       "      <td>4.0200</td>\n",
       "    </tr>\n",
       "    <tr>\n",
       "      <th>1</th>\n",
       "      <td>Bream</td>\n",
       "      <td>290.0</td>\n",
       "      <td>24.0</td>\n",
       "      <td>26.3</td>\n",
       "      <td>31.2</td>\n",
       "      <td>12.4800</td>\n",
       "      <td>4.3056</td>\n",
       "    </tr>\n",
       "    <tr>\n",
       "      <th>2</th>\n",
       "      <td>Bream</td>\n",
       "      <td>340.0</td>\n",
       "      <td>23.9</td>\n",
       "      <td>26.5</td>\n",
       "      <td>31.1</td>\n",
       "      <td>12.3778</td>\n",
       "      <td>4.6961</td>\n",
       "    </tr>\n",
       "    <tr>\n",
       "      <th>3</th>\n",
       "      <td>Bream</td>\n",
       "      <td>363.0</td>\n",
       "      <td>26.3</td>\n",
       "      <td>29.0</td>\n",
       "      <td>33.5</td>\n",
       "      <td>12.7300</td>\n",
       "      <td>4.4555</td>\n",
       "    </tr>\n",
       "    <tr>\n",
       "      <th>4</th>\n",
       "      <td>Bream</td>\n",
       "      <td>430.0</td>\n",
       "      <td>26.5</td>\n",
       "      <td>29.0</td>\n",
       "      <td>34.0</td>\n",
       "      <td>12.4440</td>\n",
       "      <td>5.1340</td>\n",
       "    </tr>\n",
       "  </tbody>\n",
       "</table>\n",
       "</div>"
      ],
      "text/plain": [
       "  Species  Weight  Length1  Length2  Length3   Height   Width\n",
       "0   Bream   242.0     23.2     25.4     30.0  11.5200  4.0200\n",
       "1   Bream   290.0     24.0     26.3     31.2  12.4800  4.3056\n",
       "2   Bream   340.0     23.9     26.5     31.1  12.3778  4.6961\n",
       "3   Bream   363.0     26.3     29.0     33.5  12.7300  4.4555\n",
       "4   Bream   430.0     26.5     29.0     34.0  12.4440  5.1340"
      ]
     },
     "execution_count": 2,
     "metadata": {},
     "output_type": "execute_result"
    }
   ],
   "source": [
    "# read file or dataset \n",
    "data=pd.read_csv(\"C:/Users/Admin/Downloads/Fish.csv\")\n",
    "data.head()"
   ]
  },
  {
   "cell_type": "code",
   "execution_count": 3,
   "metadata": {},
   "outputs": [
    {
     "name": "stdout",
     "output_type": "stream",
     "text": [
      "<class 'pandas.core.frame.DataFrame'>\n",
      "RangeIndex: 159 entries, 0 to 158\n",
      "Data columns (total 7 columns):\n",
      "Species    159 non-null object\n",
      "Weight     159 non-null float64\n",
      "Length1    159 non-null float64\n",
      "Length2    159 non-null float64\n",
      "Length3    159 non-null float64\n",
      "Height     159 non-null float64\n",
      "Width      159 non-null float64\n",
      "dtypes: float64(6), object(1)\n",
      "memory usage: 8.8+ KB\n"
     ]
    }
   ],
   "source": [
    "data.info()"
   ]
  },
  {
   "cell_type": "code",
   "execution_count": 4,
   "metadata": {},
   "outputs": [
    {
     "data": {
      "text/plain": [
       "Species    0\n",
       "Weight     0\n",
       "Length1    0\n",
       "Length2    0\n",
       "Length3    0\n",
       "Height     0\n",
       "Width      0\n",
       "dtype: int64"
      ]
     },
     "execution_count": 4,
     "metadata": {},
     "output_type": "execute_result"
    }
   ],
   "source": [
    "data.isnull().sum() #  checking null values"
   ]
  },
  {
   "cell_type": "code",
   "execution_count": 5,
   "metadata": {
    "scrolled": false
   },
   "outputs": [
    {
     "data": {
      "text/plain": [
       "Perch        56\n",
       "Bream        35\n",
       "Roach        20\n",
       "Pike         17\n",
       "Smelt        14\n",
       "Parkki       11\n",
       "Whitefish     6\n",
       "Name: Species, dtype: int64"
      ]
     },
     "execution_count": 5,
     "metadata": {},
     "output_type": "execute_result"
    }
   ],
   "source": [
    "data['Species'].value_counts() #  check how many differnt species of fish "
   ]
  },
  {
   "cell_type": "code",
   "execution_count": 6,
   "metadata": {},
   "outputs": [
    {
     "name": "stdout",
     "output_type": "stream",
     "text": [
      "<class 'pandas.core.frame.DataFrame'>\n",
      "RangeIndex: 159 entries, 0 to 158\n",
      "Data columns (total 7 columns):\n",
      "Species    159 non-null object\n",
      "Weight     159 non-null float64\n",
      "Length1    159 non-null float64\n",
      "Length2    159 non-null float64\n",
      "Length3    159 non-null float64\n",
      "Height     159 non-null float64\n",
      "Width      159 non-null float64\n",
      "dtypes: float64(6), object(1)\n",
      "memory usage: 8.8+ KB\n"
     ]
    }
   ],
   "source": [
    "data.info()"
   ]
  },
  {
   "cell_type": "markdown",
   "metadata": {},
   "source": [
    "## Correlation\n",
    "\n",
    "Strength of the relationship between two variables\n",
    "Lets look at correlation between all features.\n"
   ]
  },
  {
   "cell_type": "code",
   "execution_count": 7,
   "metadata": {},
   "outputs": [
    {
     "data": {
      "text/plain": [
       "<matplotlib.axes._subplots.AxesSubplot at 0x1eca41662b0>"
      ]
     },
     "execution_count": 7,
     "metadata": {},
     "output_type": "execute_result"
    },
    {
     "data": {
      "image/png": "[encoded data removed]",
      "text/plain": [
       "<Figure size 432x288 with 2 Axes>"
      ]
     },
     "metadata": {
      "needs_background": "light"
     },
     "output_type": "display_data"
    }
   ],
   "source": [
    "# checking important features though heatmap\n",
    "import seaborn as sns\n",
    "sns.heatmap(data.corr(),annot=True,)"
   ]
  },
  {
   "cell_type": "code",
   "execution_count": 8,
   "metadata": {},
   "outputs": [
    {
     "name": "stdout",
     "output_type": "stream",
     "text": [
      "    Species  Length1  Length2  Length3   Height   Width\n",
      "0     Bream     23.2     25.4     30.0  11.5200  4.0200\n",
      "1     Bream     24.0     26.3     31.2  12.4800  4.3056\n",
      "2     Bream     23.9     26.5     31.1  12.3778  4.6961\n",
      "3     Bream     26.3     29.0     33.5  12.7300  4.4555\n",
      "4     Bream     26.5     29.0     34.0  12.4440  5.1340\n",
      "5     Bream     26.8     29.7     34.7  13.6024  4.9274\n",
      "6     Bream     26.8     29.7     34.5  14.1795  5.2785\n",
      "7     Bream     27.6     30.0     35.0  12.6700  4.6900\n",
      "8     Bream     27.6     30.0     35.1  14.0049  4.8438\n",
      "9     Bream     28.5     30.7     36.2  14.2266  4.9594\n",
      "10    Bream     28.4     31.0     36.2  14.2628  5.1042\n",
      "11    Bream     28.7     31.0     36.2  14.3714  4.8146\n",
      "12    Bream     29.1     31.5     36.4  13.7592  4.3680\n",
      "13    Bream     29.5     32.0     37.3  13.9129  5.0728\n",
      "14    Bream     29.4     32.0     37.2  14.9544  5.1708\n",
      "15    Bream     29.4     32.0     37.2  15.4380  5.5800\n",
      "16    Bream     30.4     33.0     38.3  14.8604  5.2854\n",
      "17    Bream     30.4     33.0     38.5  14.9380  5.1975\n",
      "18    Bream     30.9     33.5     38.6  15.6330  5.1338\n",
      "19    Bream     31.0     33.5     38.7  14.4738  5.7276\n",
      "20    Bream     31.3     34.0     39.5  15.1285  5.5695\n",
      "21    Bream     31.4     34.0     39.2  15.9936  5.3704\n",
      "22    Bream     31.5     34.5     39.7  15.5227  5.2801\n",
      "23    Bream     31.8     35.0     40.6  15.4686  6.1306\n",
      "24    Bream     31.9     35.0     40.5  16.2405  5.5890\n",
      "25    Bream     31.8     35.0     40.9  16.3600  6.0532\n",
      "26    Bream     32.0     35.0     40.6  16.3618  6.0900\n",
      "27    Bream     32.7     36.0     41.5  16.5170  5.8515\n",
      "28    Bream     32.8     36.0     41.6  16.8896  6.1984\n",
      "29    Bream     33.5     37.0     42.6  18.9570  6.6030\n",
      "..      ...      ...      ...      ...      ...     ...\n",
      "129    Pike     31.7     34.0     37.8   5.7078  4.1580\n",
      "130    Pike     32.7     35.0     38.8   5.9364  4.3844\n",
      "131    Pike     34.8     37.3     39.8   6.2884  4.0198\n",
      "132    Pike     35.5     38.0     40.5   7.2900  4.5765\n",
      "133    Pike     36.0     38.5     41.0   6.3960  3.9770\n",
      "134    Pike     40.0     42.5     45.5   7.2800  4.3225\n",
      "135    Pike     40.0     42.5     45.5   6.8250  4.4590\n",
      "136    Pike     40.1     43.0     45.8   7.7860  5.1296\n",
      "137    Pike     42.0     45.0     48.0   6.9600  4.8960\n",
      "138    Pike     43.2     46.0     48.7   7.7920  4.8700\n",
      "139    Pike     44.8     48.0     51.2   7.6800  5.3760\n",
      "140    Pike     48.3     51.7     55.1   8.9262  6.1712\n",
      "141    Pike     52.0     56.0     59.7  10.6863  6.9849\n",
      "142    Pike     56.0     60.0     64.0   9.6000  6.1440\n",
      "143    Pike     56.0     60.0     64.0   9.6000  6.1440\n",
      "144    Pike     59.0     63.4     68.0  10.8120  7.4800\n",
      "145   Smelt      9.3      9.8     10.8   1.7388  1.0476\n",
      "146   Smelt     10.0     10.5     11.6   1.9720  1.1600\n",
      "147   Smelt     10.1     10.6     11.6   1.7284  1.1484\n",
      "148   Smelt     10.4     11.0     12.0   2.1960  1.3800\n",
      "149   Smelt     10.7     11.2     12.4   2.0832  1.2772\n",
      "150   Smelt     10.8     11.3     12.6   1.9782  1.2852\n",
      "151   Smelt     11.3     11.8     13.1   2.2139  1.2838\n",
      "152   Smelt     11.3     11.8     13.1   2.2139  1.1659\n",
      "153   Smelt     11.4     12.0     13.2   2.2044  1.1484\n",
      "154   Smelt     11.5     12.2     13.4   2.0904  1.3936\n",
      "155   Smelt     11.7     12.4     13.5   2.4300  1.2690\n",
      "156   Smelt     12.1     13.0     13.8   2.2770  1.2558\n",
      "157   Smelt     13.2     14.3     15.2   2.8728  2.0672\n",
      "158   Smelt     13.8     15.0     16.2   2.9322  1.8792\n",
      "\n",
      "[159 rows x 6 columns]\n",
      "0       242.0\n",
      "1       290.0\n",
      "2       340.0\n",
      "3       363.0\n",
      "4       430.0\n",
      "5       450.0\n",
      "6       500.0\n",
      "7       390.0\n",
      "8       450.0\n",
      "9       500.0\n",
      "10      475.0\n",
      "11      500.0\n",
      "12      500.0\n",
      "13      340.0\n",
      "14      600.0\n",
      "15      600.0\n",
      "16      700.0\n",
      "17      700.0\n",
      "18      610.0\n",
      "19      650.0\n",
      "20      575.0\n",
      "21      685.0\n",
      "22      620.0\n",
      "23      680.0\n",
      "24      700.0\n",
      "25      725.0\n",
      "26      720.0\n",
      "27      714.0\n",
      "28      850.0\n",
      "29     1000.0\n",
      "        ...  \n",
      "129     300.0\n",
      "130     300.0\n",
      "131     300.0\n",
      "132     430.0\n",
      "133     345.0\n",
      "134     456.0\n",
      "135     510.0\n",
      "136     540.0\n",
      "137     500.0\n",
      "138     567.0\n",
      "139     770.0\n",
      "140     950.0\n",
      "141    1250.0\n",
      "142    1600.0\n",
      "143    1550.0\n",
      "144    1650.0\n",
      "145       6.7\n",
      "146       7.5\n",
      "147       7.0\n",
      "148       9.7\n",
      "149       9.8\n",
      "150       8.7\n",
      "151      10.0\n",
      "152       9.9\n",
      "153       9.8\n",
      "154      12.2\n",
      "155      13.4\n",
      "156      12.2\n",
      "157      19.7\n",
      "158      19.9\n",
      "Name: Weight, Length: 159, dtype: float64\n"
     ]
    }
   ],
   "source": [
    "important_data=['Species','Length1','Length2','Length3','Height','Width']\n",
    "X=data[important_data] # all columns or data without target or predict column\n",
    "y=data.Weight # target data or predict column\n",
    "print(X)\n",
    "print(y)"
   ]
  },
  {
   "cell_type": "code",
   "execution_count": 9,
   "metadata": {},
   "outputs": [
    {
     "data": {
      "text/plain": [
       "(159, 6)"
      ]
     },
     "execution_count": 9,
     "metadata": {},
     "output_type": "execute_result"
    }
   ],
   "source": [
    "X.shape"
   ]
  },
  {
   "cell_type": "code",
   "execution_count": 13,
   "metadata": {},
   "outputs": [
    {
     "name": "stdout",
     "output_type": "stream",
     "text": [
      "0    Bream\n",
      "1    Bream\n",
      "2    Bream\n",
      "3    Bream\n",
      "4    Bream\n",
      "Name: Species, dtype: object\n"
     ]
    }
   ],
   "source": [
    "# separate categories data \n",
    "e=data.iloc[:,0]\n",
    "print(e.head())"
   ]
  },
  {
   "cell_type": "markdown",
   "metadata": {},
   "source": [
    "## conveting categories data to numeric data"
   ]
  },
  {
   "cell_type": "code",
   "execution_count": 14,
   "metadata": {},
   "outputs": [],
   "source": [
    "#label encoding\n",
    "from sklearn.preprocessing import LabelEncoder, OneHotEncoder\n",
    "label_encoder = LabelEncoder()\n",
    "X.iloc[:,0] = label_encoder.fit_transform(X.iloc[:,0]) #LabelEncoder is used to encode the country value\n"
   ]
  },
  {
   "cell_type": "code",
   "execution_count": 15,
   "metadata": {},
   "outputs": [
    {
     "data": {
      "text/plain": [
       "array([0, 0, 0, 0, 0, 0, 0, 0, 0, 0, 0, 0, 0, 0, 0, 0, 0, 0, 0, 0, 0, 0,\n",
       "       0, 0, 0, 0, 0, 0, 0, 0, 0, 0, 0, 0, 0, 4, 4, 4, 4, 4, 4, 4, 4, 4,\n",
       "       4, 4, 4, 4, 4, 4, 4, 4, 4, 4, 4, 6, 6, 6, 6, 6, 6, 1, 1, 1, 1, 1,\n",
       "       1, 1, 1, 1, 1, 1, 2, 2, 2, 2, 2, 2, 2, 2, 2, 2, 2, 2, 2, 2, 2, 2,\n",
       "       2, 2, 2, 2, 2, 2, 2, 2, 2, 2, 2, 2, 2, 2, 2, 2, 2, 2, 2, 2, 2, 2,\n",
       "       2, 2, 2, 2, 2, 2, 2, 2, 2, 2, 2, 2, 2, 2, 2, 2, 2, 2, 3, 3, 3, 3,\n",
       "       3, 3, 3, 3, 3, 3, 3, 3, 3, 3, 3, 3, 3, 5, 5, 5, 5, 5, 5, 5, 5, 5,\n",
       "       5, 5, 5, 5, 5], dtype=int64)"
      ]
     },
     "execution_count": 15,
     "metadata": {},
     "output_type": "execute_result"
    }
   ],
   "source": [
    "label_encoder.fit_transform(X.iloc[:,0])"
   ]
  },
  {
   "cell_type": "code",
   "execution_count": 16,
   "metadata": {},
   "outputs": [
    {
     "data": {
      "text/plain": [
       "LabelEncoder()"
      ]
     },
     "execution_count": 16,
     "metadata": {},
     "output_type": "execute_result"
    }
   ],
   "source": [
    "label_encoder"
   ]
  },
  {
   "cell_type": "code",
   "execution_count": 17,
   "metadata": {},
   "outputs": [
    {
     "data": {
      "text/plain": [
       "0      0\n",
       "1      0\n",
       "2      0\n",
       "3      0\n",
       "4      0\n",
       "5      0\n",
       "6      0\n",
       "7      0\n",
       "8      0\n",
       "9      0\n",
       "10     0\n",
       "11     0\n",
       "12     0\n",
       "13     0\n",
       "14     0\n",
       "15     0\n",
       "16     0\n",
       "17     0\n",
       "18     0\n",
       "19     0\n",
       "20     0\n",
       "21     0\n",
       "22     0\n",
       "23     0\n",
       "24     0\n",
       "25     0\n",
       "26     0\n",
       "27     0\n",
       "28     0\n",
       "29     0\n",
       "      ..\n",
       "129    3\n",
       "130    3\n",
       "131    3\n",
       "132    3\n",
       "133    3\n",
       "134    3\n",
       "135    3\n",
       "136    3\n",
       "137    3\n",
       "138    3\n",
       "139    3\n",
       "140    3\n",
       "141    3\n",
       "142    3\n",
       "143    3\n",
       "144    3\n",
       "145    5\n",
       "146    5\n",
       "147    5\n",
       "148    5\n",
       "149    5\n",
       "150    5\n",
       "151    5\n",
       "152    5\n",
       "153    5\n",
       "154    5\n",
       "155    5\n",
       "156    5\n",
       "157    5\n",
       "158    5\n",
       "Name: Species, Length: 159, dtype: int64"
      ]
     },
     "execution_count": 17,
     "metadata": {},
     "output_type": "execute_result"
    }
   ],
   "source": [
    "X.iloc[:,0]"
   ]
  },
  {
   "cell_type": "code",
   "execution_count": 18,
   "metadata": {},
   "outputs": [
    {
     "name": "stderr",
     "output_type": "stream",
     "text": [
      "C:\\Users\\Admin\\.conda\\envs\\nishant\\lib\\site-packages\\sklearn\\preprocessing\\_encoders.py:415: FutureWarning: The handling of integer data will change in version 0.22. Currently, the categories are determined based on the range [0, max(values)], while in the future they will be determined based on the unique values.\n",
      "If you want the future behaviour and silence this warning, you can specify \"categories='auto'\".\n",
      "In case you used a LabelEncoder before this OneHotEncoder to convert the categories to integers, then you can now use the OneHotEncoder directly.\n",
      "  warnings.warn(msg, FutureWarning)\n",
      "C:\\Users\\Admin\\.conda\\envs\\nishant\\lib\\site-packages\\sklearn\\preprocessing\\_encoders.py:451: DeprecationWarning: The 'categorical_features' keyword is deprecated in version 0.20 and will be removed in 0.22. You can use the ColumnTransformer instead.\n",
      "  \"use the ColumnTransformer instead.\", DeprecationWarning)\n"
     ]
    }
   ],
   "source": [
    "hot_encoder = OneHotEncoder(categorical_features = [0])\n",
    "X = hot_encoder.fit_transform(X).toarray()"
   ]
  },
  {
   "cell_type": "code",
   "execution_count": 19,
   "metadata": {},
   "outputs": [
    {
     "name": "stderr",
     "output_type": "stream",
     "text": [
      "C:\\Users\\Admin\\.conda\\envs\\nishant\\lib\\site-packages\\sklearn\\preprocessing\\_encoders.py:415: FutureWarning: The handling of integer data will change in version 0.22. Currently, the categories are determined based on the range [0, max(values)], while in the future they will be determined based on the unique values.\n",
      "If you want the future behaviour and silence this warning, you can specify \"categories='auto'\".\n",
      "In case you used a LabelEncoder before this OneHotEncoder to convert the categories to integers, then you can now use the OneHotEncoder directly.\n",
      "  warnings.warn(msg, FutureWarning)\n",
      "C:\\Users\\Admin\\.conda\\envs\\nishant\\lib\\site-packages\\sklearn\\preprocessing\\_encoders.py:451: DeprecationWarning: The 'categorical_features' keyword is deprecated in version 0.20 and will be removed in 0.22. You can use the ColumnTransformer instead.\n",
      "  \"use the ColumnTransformer instead.\", DeprecationWarning)\n"
     ]
    },
    {
     "data": {
      "text/plain": [
       "array([[ 0.    ,  1.    ,  0.    , ..., 30.    , 11.52  ,  4.02  ],\n",
       "       [ 0.    ,  1.    ,  0.    , ..., 31.2   , 12.48  ,  4.3056],\n",
       "       [ 0.    ,  1.    ,  0.    , ..., 31.1   , 12.3778,  4.6961],\n",
       "       ...,\n",
       "       [ 1.    ,  0.    ,  0.    , ..., 13.8   ,  2.277 ,  1.2558],\n",
       "       [ 1.    ,  0.    ,  0.    , ..., 15.2   ,  2.8728,  2.0672],\n",
       "       [ 1.    ,  0.    ,  0.    , ..., 16.2   ,  2.9322,  1.8792]])"
      ]
     },
     "execution_count": 19,
     "metadata": {},
     "output_type": "execute_result"
    }
   ],
   "source": [
    "hot_encoder.fit_transform(X).toarray()"
   ]
  },
  {
   "cell_type": "code",
   "execution_count": 20,
   "metadata": {},
   "outputs": [
    {
     "data": {
      "text/plain": [
       "OneHotEncoder(categorical_features=[0], categories=None, drop=None,\n",
       "              dtype=<class 'numpy.float64'>, handle_unknown='error',\n",
       "              n_values=None, sparse=True)"
      ]
     },
     "execution_count": 20,
     "metadata": {},
     "output_type": "execute_result"
    }
   ],
   "source": [
    "OneHotEncoder(categorical_features = [0])"
   ]
  },
  {
   "cell_type": "code",
   "execution_count": 21,
   "metadata": {},
   "outputs": [
    {
     "data": {
      "text/plain": [
       "array([[ 1.    ,  0.    ,  0.    , ..., 30.    , 11.52  ,  4.02  ],\n",
       "       [ 1.    ,  0.    ,  0.    , ..., 31.2   , 12.48  ,  4.3056],\n",
       "       [ 1.    ,  0.    ,  0.    , ..., 31.1   , 12.3778,  4.6961],\n",
       "       ...,\n",
       "       [ 0.    ,  0.    ,  0.    , ..., 13.8   ,  2.277 ,  1.2558],\n",
       "       [ 0.    ,  0.    ,  0.    , ..., 15.2   ,  2.8728,  2.0672],\n",
       "       [ 0.    ,  0.    ,  0.    , ..., 16.2   ,  2.9322,  1.8792]])"
      ]
     },
     "execution_count": 21,
     "metadata": {},
     "output_type": "execute_result"
    }
   ],
   "source": [
    "X"
   ]
  },
  {
   "cell_type": "code",
   "execution_count": 22,
   "metadata": {},
   "outputs": [
    {
     "data": {
      "text/plain": [
       "OneHotEncoder(categorical_features=[0], categories=None, drop=None,\n",
       "              dtype=<class 'numpy.float64'>, handle_unknown='error',\n",
       "              n_values=None, sparse=True)"
      ]
     },
     "execution_count": 22,
     "metadata": {},
     "output_type": "execute_result"
    }
   ],
   "source": [
    "hot_encoder"
   ]
  },
  {
   "cell_type": "code",
   "execution_count": 23,
   "metadata": {},
   "outputs": [
    {
     "data": {
      "text/plain": [
       "(159, 12)"
      ]
     },
     "execution_count": 23,
     "metadata": {},
     "output_type": "execute_result"
    }
   ],
   "source": [
    "X.shape"
   ]
  },
  {
   "cell_type": "code",
   "execution_count": 24,
   "metadata": {},
   "outputs": [],
   "source": [
    "X = X[:, 1:]"
   ]
  },
  {
   "cell_type": "code",
   "execution_count": 25,
   "metadata": {},
   "outputs": [],
   "source": [
    "# splitintg data train data and test data from dataset. \n",
    "from sklearn.model_selection import train_test_split\n",
    "X_train, X_test, y_train, y_test = train_test_split(X, y, test_size= 0.3, random_state=1)"
   ]
  },
  {
   "cell_type": "code",
   "execution_count": 26,
   "metadata": {},
   "outputs": [
    {
     "data": {
      "text/plain": [
       "29    1000.0\n",
       "42     120.0\n",
       "14     600.0\n",
       "91     130.0\n",
       "81      85.0\n",
       "Name: Weight, dtype: float64"
      ]
     },
     "execution_count": 26,
     "metadata": {},
     "output_type": "execute_result"
    }
   ],
   "source": [
    "y_test.head()"
   ]
  },
  {
   "cell_type": "code",
   "execution_count": 27,
   "metadata": {},
   "outputs": [
    {
     "name": "stdout",
     "output_type": "stream",
     "text": [
      "LinearRegression(copy_X=True, fit_intercept=True, n_jobs=None, normalize=False)\n"
     ]
    }
   ],
   "source": [
    "# use Linear regression\n",
    "# Fitting MLR to the Training Set\n",
    "from sklearn.linear_model import LinearRegression\n",
    "regressor = LinearRegression()\n",
    "e=regressor.fit(X_train, y_train)\n",
    "print(e)"
   ]
  },
  {
   "cell_type": "code",
   "execution_count": 28,
   "metadata": {},
   "outputs": [
    {
     "data": {
      "text/plain": [
       "LinearRegression(copy_X=True, fit_intercept=True, n_jobs=None, normalize=False)"
      ]
     },
     "execution_count": 28,
     "metadata": {},
     "output_type": "execute_result"
    }
   ],
   "source": [
    "regressor"
   ]
  },
  {
   "cell_type": "code",
   "execution_count": 29,
   "metadata": {},
   "outputs": [
    {
     "data": {
      "text/plain": [
       "LinearRegression(copy_X=True, fit_intercept=True, n_jobs=None, normalize=False)"
      ]
     },
     "execution_count": 29,
     "metadata": {},
     "output_type": "execute_result"
    }
   ],
   "source": [
    "regressor.fit(X_train, y_train)\n"
   ]
  },
  {
   "cell_type": "code",
   "execution_count": 30,
   "metadata": {},
   "outputs": [],
   "source": [
    "y_pred = regressor.predict(X_test)"
   ]
  },
  {
   "cell_type": "code",
   "execution_count": 31,
   "metadata": {},
   "outputs": [
    {
     "data": {
      "text/plain": [
       "array([ 766.93900762,  109.24860669,  540.30915139,  200.38611819,\n",
       "         83.77406638,  594.03009269,  121.03443347,  485.77804732,\n",
       "         67.59191171,  250.14107983,  181.70598493,  225.06229285,\n",
       "       -177.28869484,  374.93367395,  715.94402367,  187.10059476,\n",
       "        191.76996904,  534.46040736,  476.69719788,  312.29978096,\n",
       "          4.94762006, -173.53927847,  253.69563765,  486.74601124,\n",
       "        147.89525721,  825.98378208,  581.03081489,  -84.18909947,\n",
       "       1315.32547121,  206.65384085, 1028.91815727,  375.25230437,\n",
       "        674.02807414,  357.7993448 ,  509.24494258,  359.14032741,\n",
       "        141.04616195,  274.83038465,  901.64464647,  350.40113616,\n",
       "        374.95049462,  653.98692253,  386.15393947,   21.94198552,\n",
       "        506.86128463,  750.53235142,  -95.29506484,  727.49253278])"
      ]
     },
     "execution_count": 31,
     "metadata": {},
     "output_type": "execute_result"
    }
   ],
   "source": [
    "y_pred"
   ]
  },
  {
   "cell_type": "code",
   "execution_count": 32,
   "metadata": {},
   "outputs": [
    {
     "data": {
      "text/plain": [
       "array([[ 0.    ,  0.    ,  0.    ,  0.    ,  0.    ,  0.    , 33.5   ,\n",
       "        37.    , 42.6   , 18.957 ,  6.603 ],\n",
       "       [ 0.    ,  0.    ,  0.    ,  1.    ,  0.    ,  0.    , 19.4   ,\n",
       "        21.    , 23.7   ,  6.1146,  3.2943],\n",
       "       [ 0.    ,  0.    ,  0.    ,  0.    ,  0.    ,  0.    , 29.4   ,\n",
       "        32.    , 37.2   , 14.9544,  5.1708],\n",
       "       [ 0.    ,  1.    ,  0.    ,  0.    ,  0.    ,  0.    , 20.5   ,\n",
       "        22.5   , 24.    ,  5.856 ,  3.624 ],\n",
       "       [ 0.    ,  1.    ,  0.    ,  0.    ,  0.    ,  0.    , 18.2   ,\n",
       "        20.    , 21.    ,  5.082 ,  2.772 ],\n",
       "       [ 0.    ,  0.    ,  0.    ,  0.    ,  0.    ,  0.    , 31.    ,\n",
       "        33.5   , 38.7   , 14.4738,  5.7276],\n",
       "       [ 0.    ,  0.    ,  0.    ,  1.    ,  0.    ,  0.    , 20.5   ,\n",
       "        22.    , 24.3   ,  6.6339,  3.5478],\n",
       "       [ 0.    ,  0.    ,  0.    ,  0.    ,  0.    ,  0.    , 28.7   ,\n",
       "        31.    , 36.2   , 14.3714,  4.8146],\n",
       "       [ 0.    ,  0.    ,  0.    ,  1.    ,  0.    ,  0.    , 19.    ,\n",
       "        20.5   , 22.8   ,  6.4752,  3.3516],\n",
       "       [ 0.    ,  1.    ,  0.    ,  0.    ,  0.    ,  0.    , 22.    ,\n",
       "        24.    , 25.5   ,  6.375 ,  3.825 ],\n",
       "       [ 0.    ,  1.    ,  0.    ,  0.    ,  0.    ,  0.    , 20.    ,\n",
       "        22.    , 23.5   ,  5.875 ,  3.525 ],\n",
       "       [ 0.    ,  1.    ,  0.    ,  0.    ,  0.    ,  0.    , 21.    ,\n",
       "        23.    , 24.5   ,  5.2185,  3.626 ],\n",
       "       [ 0.    ,  1.    ,  0.    ,  0.    ,  0.    ,  0.    , 12.5   ,\n",
       "        13.7   , 14.7   ,  3.528 ,  1.9992],\n",
       "       [ 0.    ,  1.    ,  0.    ,  0.    ,  0.    ,  0.    , 25.4   ,\n",
       "        27.5   , 28.9   ,  7.2828,  4.5662],\n",
       "       [ 0.    ,  0.    ,  0.    ,  0.    ,  0.    ,  1.    , 33.7   ,\n",
       "        36.4   , 39.6   , 11.7612,  6.5736],\n",
       "       [ 0.    ,  1.    ,  0.    ,  0.    ,  0.    ,  0.    , 20.    ,\n",
       "        22.    , 23.5   ,  5.5225,  3.995 ],\n",
       "       [ 1.    ,  0.    ,  0.    ,  0.    ,  0.    ,  0.    , 19.    ,\n",
       "        20.7   , 23.2   ,  8.5376,  3.2944],\n",
       "       [ 0.    ,  0.    ,  0.    ,  1.    ,  0.    ,  0.    , 29.5   ,\n",
       "        31.7   , 35.    ,  9.485 ,  5.355 ],\n",
       "       [ 0.    ,  1.    ,  0.    ,  0.    ,  0.    ,  0.    , 27.8   ,\n",
       "        30.    , 31.6   ,  7.6156,  4.7716],\n",
       "       [ 0.    ,  1.    ,  0.    ,  0.    ,  0.    ,  0.    , 23.5   ,\n",
       "        25.6   , 27.    ,  6.561 ,  4.239 ],\n",
       "       [ 0.    ,  0.    ,  0.    ,  0.    ,  1.    ,  0.    , 11.4   ,\n",
       "        12.    , 13.2   ,  2.2044,  1.1484],\n",
       "       [ 0.    ,  0.    ,  0.    ,  1.    ,  0.    ,  0.    , 12.9   ,\n",
       "        14.1   , 16.2   ,  4.1472,  2.268 ],\n",
       "       [ 0.    ,  0.    ,  0.    ,  1.    ,  0.    ,  0.    , 23.6   ,\n",
       "        25.2   , 27.9   ,  7.0866,  3.906 ],\n",
       "       [ 0.    ,  0.    ,  0.    ,  0.    ,  0.    ,  0.    , 26.8   ,\n",
       "        29.7   , 34.7   , 13.6024,  4.9274],\n",
       "       [ 0.    ,  1.    ,  0.    ,  0.    ,  0.    ,  0.    , 19.    ,\n",
       "        21.    , 22.5   ,  5.6925,  3.6675],\n",
       "       [ 0.    ,  0.    ,  0.    ,  0.    ,  0.    ,  0.    , 35.    ,\n",
       "        38.5   , 44.    , 18.084 ,  6.292 ],\n",
       "       [ 0.    ,  0.    ,  0.    ,  0.    ,  0.    ,  0.    , 30.4   ,\n",
       "        33.    , 38.3   , 14.8604,  5.2854],\n",
       "       [ 0.    ,  0.    ,  0.    ,  0.    ,  1.    ,  0.    ,  9.3   ,\n",
       "         9.8   , 10.8   ,  1.7388,  1.0476],\n",
       "       [ 0.    ,  0.    ,  1.    ,  0.    ,  0.    ,  0.    , 56.    ,\n",
       "        60.    , 64.    ,  9.6   ,  6.144 ],\n",
       "       [ 0.    ,  1.    ,  0.    ,  0.    ,  0.    ,  0.    , 20.7   ,\n",
       "        22.7   , 24.2   ,  5.9532,  3.63  ],\n",
       "       [ 0.    ,  1.    ,  0.    ,  0.    ,  0.    ,  0.    , 41.1   ,\n",
       "        44.    , 46.6   , 12.4888,  7.5958],\n",
       "       [ 0.    ,  1.    ,  0.    ,  0.    ,  0.    ,  0.    , 25.4   ,\n",
       "        27.5   , 28.9   ,  7.1672,  4.335 ],\n",
       "       [ 0.    ,  1.    ,  0.    ,  0.    ,  0.    ,  0.    , 32.5   ,\n",
       "        35.    , 37.3   , 11.4884,  7.7957],\n",
       "       [ 0.    ,  0.    ,  1.    ,  0.    ,  0.    ,  0.    , 34.8   ,\n",
       "        37.3   , 39.8   ,  6.2884,  4.0198],\n",
       "       [ 0.    ,  0.    ,  0.    ,  0.    ,  0.    ,  1.    , 28.5   ,\n",
       "        31.    , 34.    , 10.744 ,  6.562 ],\n",
       "       [ 0.    ,  1.    ,  0.    ,  0.    ,  0.    ,  0.    , 25.2   ,\n",
       "        27.3   , 28.7   ,  8.323 ,  5.1373],\n",
       "       [ 0.    ,  0.    ,  0.    ,  1.    ,  0.    ,  0.    , 21.1   ,\n",
       "        22.5   , 25.    ,  6.4   ,  3.8   ],\n",
       "       [ 1.    ,  0.    ,  0.    ,  0.    ,  0.    ,  0.    , 21.2   ,\n",
       "        23.    , 25.8   , 10.3458,  3.6636],\n",
       "       [ 0.    ,  0.    ,  0.    ,  0.    ,  0.    ,  0.    , 37.4   ,\n",
       "        41.    , 45.9   , 18.6354,  6.7473],\n",
       "       [ 0.    ,  0.    ,  0.    ,  0.    ,  0.    ,  1.    , 24.1   ,\n",
       "        26.5   , 29.3   ,  8.1454,  4.2485],\n",
       "       [ 0.    ,  0.    ,  1.    ,  0.    ,  0.    ,  0.    , 35.5   ,\n",
       "        38.    , 40.5   ,  7.29  ,  4.5765],\n",
       "       [ 0.    ,  1.    ,  0.    ,  0.    ,  0.    ,  0.    , 32.    ,\n",
       "        34.5   , 36.5   , 10.2565,  6.3875],\n",
       "       [ 0.    ,  1.    ,  0.    ,  0.    ,  0.    ,  0.    , 25.9   ,\n",
       "        28.    , 29.4   ,  7.8204,  4.2042],\n",
       "       [ 0.    ,  0.    ,  0.    ,  0.    ,  1.    ,  0.    , 11.5   ,\n",
       "        12.2   , 13.4   ,  2.0904,  1.3936],\n",
       "       [ 0.    ,  0.    ,  0.    ,  0.    ,  0.    ,  0.    , 29.1   ,\n",
       "        31.5   , 36.4   , 13.7592,  4.368 ],\n",
       "       [ 0.    ,  1.    ,  0.    ,  0.    ,  0.    ,  0.    , 34.5   ,\n",
       "        37.    , 39.4   , 10.835 ,  6.2646],\n",
       "       [ 0.    ,  1.    ,  0.    ,  0.    ,  0.    ,  0.    , 15.    ,\n",
       "        16.2   , 17.2   ,  4.5924,  2.6316],\n",
       "       [ 0.    ,  0.    ,  0.    ,  0.    ,  0.    ,  0.    , 32.8   ,\n",
       "        36.    , 41.6   , 16.8896,  6.1984]])"
      ]
     },
     "execution_count": 32,
     "metadata": {},
     "output_type": "execute_result"
    }
   ],
   "source": [
    "X_test"
   ]
  },
  {
   "cell_type": "code",
   "execution_count": 33,
   "metadata": {},
   "outputs": [
    {
     "data": {
      "text/plain": [
       "array([[ 0.    ,  0.    ,  0.    , ..., 30.6   ,  8.568 ,  4.7736],\n",
       "       [ 0.    ,  1.    ,  0.    , ..., 41.4   , 11.1366,  6.003 ],\n",
       "       [ 0.    ,  0.    ,  1.    , ..., 45.8   ,  7.786 ,  5.1296],\n",
       "       ...,\n",
       "       [ 0.    ,  1.    ,  0.    , ...,  8.8   ,  2.112 ,  1.408 ],\n",
       "       [ 0.    ,  0.    ,  1.    , ..., 55.1   ,  8.9262,  6.1712],\n",
       "       [ 0.    ,  0.    ,  0.    , ..., 21.2   ,  5.5756,  2.9044]])"
      ]
     },
     "execution_count": 33,
     "metadata": {},
     "output_type": "execute_result"
    }
   ],
   "source": [
    "X_train"
   ]
  },
  {
   "cell_type": "code",
   "execution_count": 34,
   "metadata": {},
   "outputs": [
    {
     "data": {
      "text/plain": [
       "29    1000.0\n",
       "42     120.0\n",
       "14     600.0\n",
       "91     130.0\n",
       "81      85.0\n",
       "Name: Weight, dtype: float64"
      ]
     },
     "execution_count": 34,
     "metadata": {},
     "output_type": "execute_result"
    }
   ],
   "source": [
    "y_test.head()"
   ]
  },
  {
   "cell_type": "code",
   "execution_count": 35,
   "metadata": {},
   "outputs": [
    {
     "data": {
      "text/plain": [
       "(48,)"
      ]
     },
     "execution_count": 35,
     "metadata": {},
     "output_type": "execute_result"
    }
   ],
   "source": [
    "y_pred.shape"
   ]
  },
  {
   "cell_type": "code",
   "execution_count": 36,
   "metadata": {},
   "outputs": [
    {
     "data": {
      "text/plain": [
       "53     272.0\n",
       "117    650.0\n",
       "136    540.0\n",
       "17     700.0\n",
       "77     100.0\n",
       "Name: Weight, dtype: float64"
      ]
     },
     "execution_count": 36,
     "metadata": {},
     "output_type": "execute_result"
    }
   ],
   "source": [
    "y_train.head()"
   ]
  },
  {
   "cell_type": "code",
   "execution_count": 37,
   "metadata": {},
   "outputs": [
    {
     "data": {
      "text/plain": [
       "count     48.000000\n",
       "mean      84.277460\n",
       "std       60.446161\n",
       "min        1.225934\n",
       "25%       44.215992\n",
       "50%       73.525496\n",
       "75%      119.853756\n",
       "max      234.674529\n",
       "Name: Weight, dtype: float64"
      ]
     },
     "execution_count": 37,
     "metadata": {},
     "output_type": "execute_result"
    }
   ],
   "source": [
    "(abs(y_test-y_pred)).describe()"
   ]
  },
  {
   "cell_type": "code",
   "execution_count": 38,
   "metadata": {},
   "outputs": [
    {
     "data": {
      "text/plain": [
       "0.9427556492750395"
      ]
     },
     "execution_count": 38,
     "metadata": {},
     "output_type": "execute_result"
    }
   ],
   "source": [
    "regressor.score(X_train, y_train)"
   ]
  },
  {
   "cell_type": "code",
   "execution_count": 39,
   "metadata": {},
   "outputs": [
    {
     "name": "stdout",
     "output_type": "stream",
     "text": [
      "rmse: 103.34558062611455\n",
      "r2: 0.9096349552643738\n"
     ]
    }
   ],
   "source": [
    "rmse = np.sqrt(mean_squared_error(y_test,y_pred)) # *RMSE ( root mean square error)\n",
    "r2 = r2_score(y_test,y_pred) # r^2: R-squared is the proportion of variance explained\n",
    "print('rmse:',rmse)\n",
    "print('r2:',r2) "
   ]
  },
  {
   "cell_type": "code",
   "execution_count": 40,
   "metadata": {},
   "outputs": [
    {
     "data": {
      "text/html": [
       "<div>\n",
       "<style scoped>\n",
       "    .dataframe tbody tr th:only-of-type {\n",
       "        vertical-align: middle;\n",
       "    }\n",
       "\n",
       "    .dataframe tbody tr th {\n",
       "        vertical-align: top;\n",
       "    }\n",
       "\n",
       "    .dataframe thead th {\n",
       "        text-align: right;\n",
       "    }\n",
       "</style>\n",
       "<table border=\"1\" class=\"dataframe\">\n",
       "  <thead>\n",
       "    <tr style=\"text-align: right;\">\n",
       "      <th></th>\n",
       "      <th>Species</th>\n",
       "      <th>Weight</th>\n",
       "      <th>Length1</th>\n",
       "      <th>Length2</th>\n",
       "      <th>Length3</th>\n",
       "      <th>Height</th>\n",
       "      <th>Width</th>\n",
       "    </tr>\n",
       "  </thead>\n",
       "  <tbody>\n",
       "    <tr>\n",
       "      <th>count</th>\n",
       "      <td>159</td>\n",
       "      <td>159.000000</td>\n",
       "      <td>159.000000</td>\n",
       "      <td>159.000000</td>\n",
       "      <td>159.000000</td>\n",
       "      <td>159.000000</td>\n",
       "      <td>159.000000</td>\n",
       "    </tr>\n",
       "    <tr>\n",
       "      <th>unique</th>\n",
       "      <td>7</td>\n",
       "      <td>NaN</td>\n",
       "      <td>NaN</td>\n",
       "      <td>NaN</td>\n",
       "      <td>NaN</td>\n",
       "      <td>NaN</td>\n",
       "      <td>NaN</td>\n",
       "    </tr>\n",
       "    <tr>\n",
       "      <th>top</th>\n",
       "      <td>Perch</td>\n",
       "      <td>NaN</td>\n",
       "      <td>NaN</td>\n",
       "      <td>NaN</td>\n",
       "      <td>NaN</td>\n",
       "      <td>NaN</td>\n",
       "      <td>NaN</td>\n",
       "    </tr>\n",
       "    <tr>\n",
       "      <th>freq</th>\n",
       "      <td>56</td>\n",
       "      <td>NaN</td>\n",
       "      <td>NaN</td>\n",
       "      <td>NaN</td>\n",
       "      <td>NaN</td>\n",
       "      <td>NaN</td>\n",
       "      <td>NaN</td>\n",
       "    </tr>\n",
       "    <tr>\n",
       "      <th>mean</th>\n",
       "      <td>NaN</td>\n",
       "      <td>398.326415</td>\n",
       "      <td>26.247170</td>\n",
       "      <td>28.415723</td>\n",
       "      <td>31.227044</td>\n",
       "      <td>8.970994</td>\n",
       "      <td>4.417486</td>\n",
       "    </tr>\n",
       "    <tr>\n",
       "      <th>std</th>\n",
       "      <td>NaN</td>\n",
       "      <td>357.978317</td>\n",
       "      <td>9.996441</td>\n",
       "      <td>10.716328</td>\n",
       "      <td>11.610246</td>\n",
       "      <td>4.286208</td>\n",
       "      <td>1.685804</td>\n",
       "    </tr>\n",
       "    <tr>\n",
       "      <th>min</th>\n",
       "      <td>NaN</td>\n",
       "      <td>0.000000</td>\n",
       "      <td>7.500000</td>\n",
       "      <td>8.400000</td>\n",
       "      <td>8.800000</td>\n",
       "      <td>1.728400</td>\n",
       "      <td>1.047600</td>\n",
       "    </tr>\n",
       "    <tr>\n",
       "      <th>25%</th>\n",
       "      <td>NaN</td>\n",
       "      <td>120.000000</td>\n",
       "      <td>19.050000</td>\n",
       "      <td>21.000000</td>\n",
       "      <td>23.150000</td>\n",
       "      <td>5.944800</td>\n",
       "      <td>3.385650</td>\n",
       "    </tr>\n",
       "    <tr>\n",
       "      <th>50%</th>\n",
       "      <td>NaN</td>\n",
       "      <td>273.000000</td>\n",
       "      <td>25.200000</td>\n",
       "      <td>27.300000</td>\n",
       "      <td>29.400000</td>\n",
       "      <td>7.786000</td>\n",
       "      <td>4.248500</td>\n",
       "    </tr>\n",
       "    <tr>\n",
       "      <th>75%</th>\n",
       "      <td>NaN</td>\n",
       "      <td>650.000000</td>\n",
       "      <td>32.700000</td>\n",
       "      <td>35.500000</td>\n",
       "      <td>39.650000</td>\n",
       "      <td>12.365900</td>\n",
       "      <td>5.584500</td>\n",
       "    </tr>\n",
       "    <tr>\n",
       "      <th>max</th>\n",
       "      <td>NaN</td>\n",
       "      <td>1650.000000</td>\n",
       "      <td>59.000000</td>\n",
       "      <td>63.400000</td>\n",
       "      <td>68.000000</td>\n",
       "      <td>18.957000</td>\n",
       "      <td>8.142000</td>\n",
       "    </tr>\n",
       "  </tbody>\n",
       "</table>\n",
       "</div>"
      ],
      "text/plain": [
       "       Species       Weight     Length1     Length2     Length3      Height  \\\n",
       "count      159   159.000000  159.000000  159.000000  159.000000  159.000000   \n",
       "unique       7          NaN         NaN         NaN         NaN         NaN   \n",
       "top      Perch          NaN         NaN         NaN         NaN         NaN   \n",
       "freq        56          NaN         NaN         NaN         NaN         NaN   \n",
       "mean       NaN   398.326415   26.247170   28.415723   31.227044    8.970994   \n",
       "std        NaN   357.978317    9.996441   10.716328   11.610246    4.286208   \n",
       "min        NaN     0.000000    7.500000    8.400000    8.800000    1.728400   \n",
       "25%        NaN   120.000000   19.050000   21.000000   23.150000    5.944800   \n",
       "50%        NaN   273.000000   25.200000   27.300000   29.400000    7.786000   \n",
       "75%        NaN   650.000000   32.700000   35.500000   39.650000   12.365900   \n",
       "max        NaN  1650.000000   59.000000   63.400000   68.000000   18.957000   \n",
       "\n",
       "             Width  \n",
       "count   159.000000  \n",
       "unique         NaN  \n",
       "top            NaN  \n",
       "freq           NaN  \n",
       "mean      4.417486  \n",
       "std       1.685804  \n",
       "min       1.047600  \n",
       "25%       3.385650  \n",
       "50%       4.248500  \n",
       "75%       5.584500  \n",
       "max       8.142000  "
      ]
     },
     "execution_count": 40,
     "metadata": {},
     "output_type": "execute_result"
    }
   ],
   "source": [
    "data.describe(include ='all') "
   ]
  },
  {
   "cell_type": "code",
   "execution_count": null,
   "metadata": {},
   "outputs": [],
   "source": []
  },
  {
   "cell_type": "code",
   "execution_count": null,
   "metadata": {},
   "outputs": [],
   "source": []
  }
 ],
 "metadata": {
  "kernelspec": {
   "display_name": "Python 3",
   "language": "python",
   "name": "python3"
  },
  "language_info": {
   "codemirror_mode": {
    "name": "ipython",
    "version": 3
   },
   "file_extension": ".py",
   "mimetype": "text/x-python",
   "name": "python",
   "nbconvert_exporter": "python",
   "pygments_lexer": "ipython3",
   "version": "3.7.3"
  }
 },
 "nbformat": 4,
 "nbformat_minor": 2
}
